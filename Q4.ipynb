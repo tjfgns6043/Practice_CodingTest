{
 "cells": [
  {
   "cell_type": "markdown",
   "metadata": {},
   "source": [
    "# 가장 흔한 단어\n",
    "금지된 단어를 제외한 가장 흔하게 등장하는 단어를 출력하라. 대소문자 구분을 하지 않으며, 구두점(마침표,쉼표) 또한 무시한다."
   ]
  },
  {
   "cell_type": "code",
   "execution_count": 10,
   "metadata": {},
   "outputs": [
    {
     "data": {
      "text/plain": [
       "'ball'"
      ]
     },
     "execution_count": 10,
     "metadata": {},
     "output_type": "execute_result"
    }
   ],
   "source": [
    "from collections import Counter\n",
    "import re\n",
    "\n",
    "def solution(paragraph, banned):\n",
    "    words = re.findall(r'\\b\\w+\\b', paragraph.lower())\n",
    "    word_count = Counter(words)\n",
    "\n",
    "    for ban in banned:\n",
    "        if ban in word_count:\n",
    "            del word_count[ban]\n",
    "    result = word_count.most_common(1)[0][0]\n",
    "    return result\n",
    "solution(\"Bob hit a ball, the hit BALL flew far after it was hit\", [\"hit\"])    \n",
    "    "
   ]
  },
  {
   "cell_type": "code",
   "execution_count": 13,
   "metadata": {},
   "outputs": [
    {
     "data": {
      "text/plain": [
       "'ball'"
      ]
     },
     "execution_count": 13,
     "metadata": {},
     "output_type": "execute_result"
    }
   ],
   "source": [
    "# 해설1\n",
    "def mostCommonWord(paragraph, banned): # \\w는 단어 문자를 의미하며 ^는 not 이 정규식은 단어문자가 아닌 모든 문자를 공백으로 치환하는 문제\n",
    "    words = [word for word in re.sub(r'[^\\w]', ' ', paragraph).lower().split() if word not in banned]\n",
    "\n",
    "    counts = Counter(words)\n",
    "    return counts.most_common(1)[0][0]\n",
    "mostCommonWord(\"Bob hit a ball, the hit BALL flew far after it was hit\", [\"hit\"])    "
   ]
  }
 ],
 "metadata": {
  "kernelspec": {
   "display_name": "Python 3",
   "language": "python",
   "name": "python3"
  },
  "language_info": {
   "codemirror_mode": {
    "name": "ipython",
    "version": 3
   },
   "file_extension": ".py",
   "mimetype": "text/x-python",
   "name": "python",
   "nbconvert_exporter": "python",
   "pygments_lexer": "ipython3",
   "version": "3.9.6"
  }
 },
 "nbformat": 4,
 "nbformat_minor": 2
}
