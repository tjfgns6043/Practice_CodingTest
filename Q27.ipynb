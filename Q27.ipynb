{
 "cells": [
  {
   "cell_type": "markdown",
   "metadata": {},
   "source": [
    "# k개 정렬 리스트 병합\n",
    "k개의 정렬된 리스트를 1개의 정렬된 리스트로 병합하라"
   ]
  },
  {
   "cell_type": "code",
   "execution_count": 2,
   "metadata": {},
   "outputs": [
    {
     "data": {
      "text/plain": [
       "[1, 1, 2, 3, 4, 4, 5, 6]"
      ]
     },
     "execution_count": 2,
     "metadata": {},
     "output_type": "execute_result"
    }
   ],
   "source": [
    "def solution(arr):\n",
    "  new_arr = []\n",
    "  for a in arr:\n",
    "    new_arr += a\n",
    "  new_arr.sort()\n",
    "  return new_arr\n",
    "solution([[1,4,5],[1,3,4],[2,6]])"
   ]
  },
  {
   "cell_type": "code",
   "execution_count": 3,
   "metadata": {},
   "outputs": [
    {
     "name": "stdout",
     "output_type": "stream",
     "text": [
      "[1, 1, 2, 3, 4, 4, 5, 6]\n"
     ]
    }
   ],
   "source": [
    "# 해설1 우선순위 큐를 이용한 리스트 병합\n",
    "from heapq import heappush, heappop\n",
    "\n",
    "def merge_k_sorted_lists(lists):\n",
    "    min_heap = []\n",
    "    result = []\n",
    "\n",
    "    # 각 리스트의 첫 번째 원소를 힙에 추가\n",
    "    for i, lst in enumerate(lists):\n",
    "        if lst:  # 리스트가 비어있지 않은 경우\n",
    "            heappush(min_heap, (lst[0], i, 0))  # (값, 리스트 인덱스, 원소 인덱스)\n",
    "\n",
    "    # 힙에서 원소를 하나씩 꺼내서 결과 리스트에 추가\n",
    "    while min_heap:\n",
    "        val, list_idx, element_idx = heappop(min_heap)\n",
    "        result.append(val)  # 결과 리스트에 값 추가\n",
    "\n",
    "        # 다음 원소를 힙에 추가\n",
    "        if element_idx + 1 < len(lists[list_idx]):\n",
    "            next_val = lists[list_idx][element_idx + 1]\n",
    "            heappush(min_heap, (next_val, list_idx, element_idx + 1))\n",
    "\n",
    "    return result\n",
    "  \n",
    "  # 예제 실행\n",
    "k_sorted_lists = [\n",
    "    [1, 4, 5],\n",
    "    [1, 3, 4],\n",
    "    [2, 6]\n",
    "]\n",
    "\n",
    "merged_list = merge_k_sorted_lists(k_sorted_lists)\n",
    "print(merged_list)  # [1, 1, 2, 3, 4, 4, 5, 6]"
   ]
  }
 ],
 "metadata": {
  "kernelspec": {
   "display_name": "pet",
   "language": "python",
   "name": "python3"
  },
  "language_info": {
   "codemirror_mode": {
    "name": "ipython",
    "version": 3
   },
   "file_extension": ".py",
   "mimetype": "text/x-python",
   "name": "python",
   "nbconvert_exporter": "python",
   "pygments_lexer": "ipython3",
   "version": "3.13.0"
  }
 },
 "nbformat": 4,
 "nbformat_minor": 2
}
