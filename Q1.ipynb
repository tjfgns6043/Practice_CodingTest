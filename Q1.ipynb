{
 "cells": [
  {
   "cell_type": "markdown",
   "metadata": {},
   "source": [
    "# 유효한 팰린드롬\n",
    "주어진 문자열이 팰린드롬인지 확인하라. 대소문자를 구분하지 않으며, 영문자와 숫자만을 대상으로 한다."
   ]
  },
  {
   "cell_type": "code",
   "execution_count": 5,
   "metadata": {},
   "outputs": [
    {
     "name": "stdout",
     "output_type": "stream",
     "text": [
      "['a', 'm', 'a', 'n', 'a', 'p', 'l', 'a', 'n', 'a', 'c', 'a', 'n', 'a', 'l', 'p', 'a', 'n', 'a', 'm', 'a'] ['a', 'm', 'a', 'n', 'a', 'p', 'l', 'a', 'n', 'a', 'c', 'a', 'n', 'a', 'l', 'p', 'a', 'n', 'a', 'm', 'a']\n",
      "true\n"
     ]
    }
   ],
   "source": [
    "strings = input()\n",
    "strs = []\n",
    "for string in strings:\n",
    "    if string.isalnum():\n",
    "        strs.append(string.lower())\n",
    "reverse_strs = strs[:]\n",
    "reverse_strs.reverse()\n",
    "if reverse_strs == strs:\n",
    "    print(\"true\")\n",
    "else:\n",
    "    print(\"false\")\n"
   ]
  },
  {
   "cell_type": "code",
   "execution_count": null,
   "metadata": {},
   "outputs": [],
   "source": [
    "# 해설 1\n",
    "def isPalindrome(self, s:str) -> bool:\n",
    "    strs = []\n",
    "    for char in s:\n",
    "        if char.isalnum():\n",
    "            strs.append(char.lower())\n",
    "    # 팰린드롬 여부 판별\n",
    "    while len(strs) > 1:\n",
    "        if strs.pop(0) != strs.pop():\n",
    "            return False\n",
    "    return True\n",
    "\n",
    "# 해설 2 데크 사용\n",
    "from collections import deque\n",
    "def isPalindrome(self, s:str) -> bool:\n",
    "    # 자료형 데크로 선언\n",
    "    strs = deque()\n",
    "    \n",
    "    for char in s:\n",
    "        if char.isalnum():\n",
    "            strs.append(char.lower())\n",
    "    \n",
    "    while len(strs) > 1:\n",
    "        if strs.popleft() != strs.pop():\n",
    "            return False\n",
    "    return True\n",
    "\n",
    "# 해설 3 슬라시이 사용\n",
    "import re\n",
    "def isPalindrome(self, s:str) -> bool:\n",
    "    s = s.lower()\n",
    "    # 정규식으로 불필요한 문자 필터링\n",
    "    s = re.sub('[^a-z0-9]', '', s)\n",
    "\n",
    "    return s == s[::-1] # 슬라이싱\n"
   ]
  }
 ],
 "metadata": {
  "kernelspec": {
   "display_name": "Python 3",
   "language": "python",
   "name": "python3"
  },
  "language_info": {
   "codemirror_mode": {
    "name": "ipython",
    "version": 3
   },
   "file_extension": ".py",
   "mimetype": "text/x-python",
   "name": "python",
   "nbconvert_exporter": "python",
   "pygments_lexer": "ipython3",
   "version": "3.9.6"
  }
 },
 "nbformat": 4,
 "nbformat_minor": 2
}
