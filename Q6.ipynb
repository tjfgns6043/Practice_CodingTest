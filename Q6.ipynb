{
 "cells": [
  {
   "cell_type": "markdown",
   "metadata": {},
   "source": [
    "# 가장 긴 팰린드롬 부분 문자열\n",
    "가장 긴 팰린드롬 부분 문자열을 출력하라."
   ]
  },
  {
   "cell_type": "code",
   "execution_count": 1,
   "metadata": {},
   "outputs": [],
   "source": [
    "def longestPalidrome(s):\n",
    "  def expand(left, right):\n",
    "    while left >= 0 and right < len(s) and s[left] == s[right]:\n",
    "      left -= 1\n",
    "      right += 1\n",
    "    return s[left + 1:right]\n",
    "  \n",
    "  if len(s) < 2 or s == s[::-1]:\n",
    "    return s\n",
    "  result = ''\n",
    "  \n",
    "  for i in range(len(s)-1):\n",
    "    result = max(result, expand(i, i+1), expand(i, i+2), key=len)\n",
    "  return result"
   ]
  },
  {
   "cell_type": "code",
   "execution_count": 3,
   "metadata": {},
   "outputs": [
    {
     "data": {
      "text/plain": [
       "'bb'"
      ]
     },
     "execution_count": 3,
     "metadata": {},
     "output_type": "execute_result"
    }
   ],
   "source": [
    "longestPalidrome(\"babad\")\n",
    "longestPalidrome(\"cbbd\")"
   ]
  }
 ],
 "metadata": {
  "kernelspec": {
   "display_name": "pet",
   "language": "python",
   "name": "python3"
  },
  "language_info": {
   "codemirror_mode": {
    "name": "ipython",
    "version": 3
   },
   "file_extension": ".py",
   "mimetype": "text/x-python",
   "name": "python",
   "nbconvert_exporter": "python",
   "pygments_lexer": "ipython3",
   "version": "3.13.0"
  }
 },
 "nbformat": 4,
 "nbformat_minor": 2
}
