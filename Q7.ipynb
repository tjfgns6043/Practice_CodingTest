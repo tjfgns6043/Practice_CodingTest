{
 "cells": [
  {
   "cell_type": "markdown",
   "metadata": {},
   "source": [
    "# 두 수의 합\n",
    "덧셈하여 타겟을 만들 수 있는 배열의 두 숫자 인덱스를 리턴하라"
   ]
  },
  {
   "cell_type": "code",
   "execution_count": 6,
   "metadata": {},
   "outputs": [],
   "source": [
    "def solution(arr, tgt):\n",
    "  for i in range(len(arr)):\n",
    "    if tgt-arr[i] in arr:\n",
    "      return [min(i, arr.index(tgt-arr[i])), max(i, arr.index(tgt-arr[i]))]"
   ]
  },
  {
   "cell_type": "code",
   "execution_count": 7,
   "metadata": {},
   "outputs": [
    {
     "data": {
      "text/plain": [
       "[0, 1]"
      ]
     },
     "execution_count": 7,
     "metadata": {},
     "output_type": "execute_result"
    }
   ],
   "source": [
    "solution([2, 7, 11, 15], 9)"
   ]
  },
  {
   "cell_type": "code",
   "execution_count": 8,
   "metadata": {},
   "outputs": [],
   "source": [
    "# 풀이1 전체 탐색\n",
    "def twoSum(nums, target):\n",
    "  for i in range(len(nums)):\n",
    "    for j in range(i+1, len(nums)):\n",
    "      if nums[i] + nums[j] == target:\n",
    "        return [i, j]\n",
    "      \n",
    "# 풀이 2 in을 이용한 탐색\n",
    "def twoSum(nums, target):\n",
    "  for i, n in enumerate(nums):\n",
    "    complement = target-n\n",
    "    \n",
    "    if complement in nums[i+1:]:\n",
    "      return [nums.index(n), nums[i+1:].index(complement) + (i+1)]\n",
    "    \n",
    "# 풀이 3 첫 번째 수를 뺀 결과 키 조회\n",
    "def twoSum(nums, target):\n",
    "  nums_map = {} \n",
    "  for i, num in enumerate(nums):\n",
    "    nums_map[num] = i\n",
    "  \n",
    "  for i, num in enumerate(nums):\n",
    "    if target - num in nums_map and i != nums_map[targt-num]:\n",
    "      return [i, nums_map[target-num]]"
   ]
  }
 ],
 "metadata": {
  "kernelspec": {
   "display_name": "pet",
   "language": "python",
   "name": "python3"
  },
  "language_info": {
   "codemirror_mode": {
    "name": "ipython",
    "version": 3
   },
   "file_extension": ".py",
   "mimetype": "text/x-python",
   "name": "python",
   "nbconvert_exporter": "python",
   "pygments_lexer": "ipython3",
   "version": "3.13.0"
  }
 },
 "nbformat": 4,
 "nbformat_minor": 2
}
